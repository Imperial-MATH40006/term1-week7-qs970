{
 "cells": [
  {
   "cell_type": "code",
   "execution_count": 33,
   "id": "ae7160e0-7823-4302-8e44-b215f7f67a72",
   "metadata": {},
   "outputs": [
    {
     "name": "stdout",
     "output_type": "stream",
     "text": [
      "2048\n",
      "165\n",
      "1024\n",
      "512\n",
      "256\n",
      "128\n",
      "37\n",
      "64\n",
      "32\n",
      "5\n",
      "16\n",
      "8\n",
      "4\n",
      "1\n",
      "2\n",
      "[0, 1, 0, 0, 1, 0, 1, 0, 0, 0, 1]\n"
     ]
    }
   ],
   "source": [
    "num=2213\n",
    "int_digits=[]\n",
    "for n in range(11):\n",
    "    a=11-n\n",
    "    print(2**a)\n",
    "    if 2**a<num:\n",
    "        int_digits.append(1)\n",
    "        num-=2**a\n",
    "        print(num)\n",
    "    else:\n",
    "        int_digits.append(0)\n",
    "int_digits=int_digits[::-1]\n",
    "print(int_digits)\n",
    "ans=100010100101"
   ]
  },
  {
   "cell_type": "code",
   "execution_count": 21,
   "id": "a9548273-42bc-48cc-9eaa-76f326f60666",
   "metadata": {},
   "outputs": [
    {
     "name": "stdout",
     "output_type": "stream",
     "text": [
      "12\n",
      "13\n"
     ]
    }
   ],
   "source": []
  },
  {
   "cell_type": "code",
   "execution_count": null,
   "id": "fbde1f29-c11e-443f-83b0-6c9d0ed06848",
   "metadata": {},
   "outputs": [],
   "source": []
  }
 ],
 "metadata": {
  "kernelspec": {
   "display_name": "Python 3 (ipykernel)",
   "language": "python",
   "name": "python3"
  },
  "language_info": {
   "codemirror_mode": {
    "name": "ipython",
    "version": 3
   },
   "file_extension": ".py",
   "mimetype": "text/x-python",
   "name": "python",
   "nbconvert_exporter": "python",
   "pygments_lexer": "ipython3",
   "version": "3.12.7"
  }
 },
 "nbformat": 4,
 "nbformat_minor": 5
}
